{
 "cells": [
  {
   "cell_type": "code",
   "execution_count": 1,
   "id": "55f595df",
   "metadata": {},
   "outputs": [],
   "source": [
    "import MySQLdb as mariadb\n",
    "from astropy.table import vstack, Table, Column\n",
    "from astropy.time import Time\n",
    "from astropy.io import ascii\n",
    "import numpy as np\n",
    "import matplotlib.pyplot as plt\n",
    "import argparse\n",
    "from reportlab.pdfgen.canvas import Canvas\n",
    "from datetime import datetime, timedelta\n",
    "from pprint import pprint\n",
    "import re\n",
    "import os"
   ]
  },
  {
   "cell_type": "code",
   "execution_count": 2,
   "id": "9bb95bb2",
   "metadata": {},
   "outputs": [],
   "source": [
    "def extractStationData(station_code, database_name, mjd_start, mjd_stop, search='%', like_or_notlike=0):\n",
    "    if float(like_or_notlike) == 1:\n",
    "        like = \"NOT LIKE\"\n",
    "    else:\n",
    "        like = \"LIKE\"\n",
    "    \n",
    "    conn = mariadb.connect(user='auscope', passwd='password')\n",
    "    cursor = conn.cursor()\n",
    "    query = \"USE \" + database_name +\";\"\n",
    "    cursor.execute(query)\n",
    "    query = \"SELECT ExpID, Date, Date_MJD, Performance, Performance_UsedVsRecov, session_fit, W_RMS_del, Detect_Rate_X, Detect_Rate_S, Total_Obs, Notes, Pos_X, Pos_Y, Pos_Z, Pos_E, Pos_N, Pos_U FROM \" + station_code+ \" WHERE ExpID \" + like + \" \\\"\" + search + \"\\\" AND Date_MJD > \" + str(mjd_start) + \" AND Date_MJD < \" + str(mjd_stop) + \" ORDER BY DATE ASC;\"\n",
    "    cursor.execute(query)\n",
    "    result = cursor.fetchall()\n",
    "    col_names = [\"ExpID\", \"Date\", \"Date_MJD\", \"Performance\", \"Performance_UsedVsRecov\", \"session_fit\", \"W_RMS_del\", \"Detect_Rate_X\", \"Detect_Rate_S\", \"Total_Obs\", \"Notes\", \"Pos_X\", \"Pos_Y\", \"Pos_Z\", \"Pos_E\", \"Pos_N\", \"Pos_U\"]\n",
    "    \n",
    "    return result, col_names \n"
   ]
  },
  {
   "cell_type": "code",
   "execution_count": 3,
   "id": "73511f3c",
   "metadata": {},
   "outputs": [],
   "source": [
    "def grabStations(sqldb_name):\n",
    "    conn = mariadb.connect(user='auscope', passwd='password')\n",
    "    cursor = conn.cursor()\n",
    "    query1 = \"USE \" + sqldb_name +\";\"\n",
    "    cursor.execute(query1)\n",
    "    query2 = \"SHOW TABLES;\"\n",
    "    cursor.execute(query2)\n",
    "    result = cursor.fetchall()\n",
    "\n",
    "    return result"
   ]
  },
  {
   "cell_type": "code",
   "execution_count": 4,
   "id": "fc02ae5c",
   "metadata": {},
   "outputs": [],
   "source": [
    "stat_list = grabStations('auscopeDB')"
   ]
  },
  {
   "cell_type": "code",
   "execution_count": 5,
   "id": "0b13f960",
   "metadata": {},
   "outputs": [],
   "source": [
    "reverse_search = 1\n",
    "search = 'v%'\n",
    "stat_code = 'Hb'\n",
    "db_name = 'auscopeDB'\n",
    "\n",
    "start_time = Time('2024:001', format='yday', out_subfmt='date')\n",
    "stop_time = Time('2025:050', format='yday', out_subfmt='date')\n",
    "\n",
    "vgos = None\n",
    "\n",
    "if search == 'v%' and reverse_search == 0:\n",
    "    vgos = True\n",
    "elif search == 'v%' and reverse_search == 1:\n",
    "    vgos = False"
   ]
  },
  {
   "cell_type": "code",
   "execution_count": 6,
   "id": "a41f0f7f",
   "metadata": {},
   "outputs": [],
   "source": [
    "def grabAllStationData(stat_list, db_name, start_time, stop_time, search, reverse_search):\n",
    "    table_list = []\n",
    "    stat_in_tab_list = []\n",
    "    for code in stat_list:\n",
    "        result, col_names = extractStationData(code[0], db_name, start_time.mjd, stop_time.mjd, search, reverse_search)\n",
    "        if len(result) > 0:\n",
    "            table = Table(rows=result, names=col_names)\n",
    "            table_list.append(table)\n",
    "            stat_in_tab_list.append(code[0])\n",
    "\n",
    "    return stat_in_tab_list, table_list"
   ]
  },
  {
   "cell_type": "code",
   "execution_count": 7,
   "id": "4bc90732",
   "metadata": {},
   "outputs": [],
   "source": [
    "stat_tab_list, table_list = grabAllStationData(stat_list, db_name, start_time, stop_time, search, reverse_search)"
   ]
  },
  {
   "cell_type": "code",
   "execution_count": 8,
   "id": "4d99791c",
   "metadata": {},
   "outputs": [],
   "source": [
    "def sumTotalObs(table_list, stat_tab_list):\n",
    "    temp_table_list = table_list.copy() \n",
    "    col_name = 'Total_Obs'\n",
    "\n",
    "    # Filter out None values\n",
    "    for i in range(0, len(temp_table_list)):\n",
    "        bad_data = []\n",
    "        for j in range(0, len(temp_table_list[i][col_name])):\n",
    "            if temp_table_list[i][col_name][j] == None:\n",
    "                bad_data.append(j)\n",
    "\n",
    "        temp_table_list[i].remove_rows(bad_data)\n",
    "    \n",
    "    # Sum the total obs for all sessions in the table\n",
    "    sum_obs_list = []\n",
    "    for i in range(0, len(temp_table_list)):\n",
    "        sum_obs_list.append([stat_tab_list[i], np.sum(temp_table_list[i][col_name])])\n",
    "\n",
    "    sum_obs_list = np.array(sum_obs_list)\n",
    "\n",
    "    sorted_indices = sum_obs_list[:, 1].argsort()[::-1]\n",
    "    sum_obs_list = sum_obs_list[sorted_indices]\n",
    "\n",
    "    return sum_obs_list"
   ]
  },
  {
   "cell_type": "code",
   "execution_count": 9,
   "id": "630c3550",
   "metadata": {},
   "outputs": [],
   "source": [
    "sum_obs_list = sumTotalObs(table_list, stat_tab_list)"
   ]
  },
  {
   "cell_type": "code",
   "execution_count": 10,
   "id": "37d23114",
   "metadata": {},
   "outputs": [],
   "source": [
    "def medWRMSdel(table_list, stat_tab_list):\n",
    "    temp_table_list = table_list.copy() \n",
    "    col_name = 'W_RMS_del'\n",
    "\n",
    "    # Filter out None values\n",
    "    for i in range(0, len(temp_table_list)):\n",
    "        bad_data = []\n",
    "        for j in range(0, len(temp_table_list[i][col_name])):\n",
    "            if temp_table_list[i][col_name][j] == -999 or temp_table_list[i][col_name][j] == None:\n",
    "                bad_data.append(j)\n",
    "\n",
    "        temp_table_list[i].remove_rows(bad_data)\n",
    "\n",
    "    # Sum the total obs for all sessions in the table\n",
    "    med_wrms_list = []\n",
    "    for i in range(0, len(temp_table_list)):\n",
    "        med_wrms_list.append([stat_tab_list[i], np.median(temp_table_list[i][col_name])])\n",
    "\n",
    "    med_wrms_list = np.array(med_wrms_list)\n",
    "\n",
    "    sorted_indices = med_wrms_list[:, 1].argsort()\n",
    "    med_wrms_list = med_wrms_list[sorted_indices]\n",
    "\n",
    "    return med_wrms_list"
   ]
  },
  {
   "cell_type": "code",
   "execution_count": 11,
   "id": "8b78a295",
   "metadata": {},
   "outputs": [],
   "source": [
    "med_wrms_list = medWRMSdel(table_list, stat_tab_list)"
   ]
  },
  {
   "cell_type": "code",
   "execution_count": 12,
   "id": "10024165",
   "metadata": {},
   "outputs": [],
   "source": [
    "def numSessions(table_list, stat_tab_list):\n",
    "    temp_table_list = table_list.copy() \n",
    "    col_name = 'Total_Obs'\n",
    "\n",
    "    # Filter out None values\n",
    "    for i in range(0, len(temp_table_list)):\n",
    "        bad_data = []\n",
    "        for j in range(0, len(temp_table_list[i][col_name])):\n",
    "            if temp_table_list[i][col_name][j] == 0 or temp_table_list[i][col_name][j] == None:\n",
    "                bad_data.append(j)\n",
    "\n",
    "        temp_table_list[i].remove_rows(bad_data)\n",
    "\n",
    "    # Sum the total sessions (with >0 observations) for all sessions in the table\n",
    "    data_list = []\n",
    "    for i in range(0, len(temp_table_list)):\n",
    "        data_list.append([stat_tab_list[i], len(temp_table_list[i][col_name])])\n",
    "\n",
    "    data_list = np.array(data_list)\n",
    "\n",
    "    sorted_indices = data_list[:, 1].astype(float).argsort()[::-1]\n",
    "    data_list = data_list[sorted_indices]\n",
    "\n",
    "    return data_list"
   ]
  },
  {
   "cell_type": "code",
   "execution_count": 13,
   "id": "2f9b2869",
   "metadata": {},
   "outputs": [],
   "source": [
    "num_sess_list = numSessions(table_list, stat_tab_list)"
   ]
  },
  {
   "cell_type": "code",
   "execution_count": 39,
   "id": "a27dc9c5",
   "metadata": {},
   "outputs": [
    {
     "data": {
      "text/plain": [
       "Text(0, 0.5, 'Sum of observations')"
      ]
     },
     "execution_count": 39,
     "metadata": {},
     "output_type": "execute_result"
    },
    {
     "data": {
      "image/png": "[encoded data removed]",
      "text/plain": [
       "<Figure size 640x480 with 1 Axes>"
      ]
     },
     "metadata": {},
     "output_type": "display_data"
    }
   ],
   "source": [
    "# Total Obs bar plot\n",
    "\n",
    "specific_stat = np.where(sum_obs_list[:,0] == 'Hb')[0]\n",
    "\n",
    "fig, ax = plt.subplots()\n",
    "\n",
    "bars = ax.bar(sum_obs_list[0:10,0], sum_obs_list[0:10,1], color='steelblue', alpha=0.8) # Plot the 10 best performing stations\n",
    "bar_specific =  ax.bar(sum_obs_list[specific_stat,0], sum_obs_list[specific_stat,1], color='firebrick', alpha=0.8) # Plot the 'target' station\n",
    "\n",
    "#ax.bar_label(bars, label_type='edge')\n",
    "\n",
    "plt.xlabel('Stations')\n",
    "plt.ylabel('Sum of observations')"
   ]
  },
  {
   "cell_type": "code",
   "execution_count": 37,
   "id": "3b447125",
   "metadata": {},
   "outputs": [
    {
     "data": {
      "text/plain": [
       "Text(0, 0.5, 'Number of sessions')"
      ]
     },
     "execution_count": 37,
     "metadata": {},
     "output_type": "execute_result"
    },
    {
     "data": {
      "image/png": "[encoded data removed]",
      "text/plain": [
       "<Figure size 640x480 with 1 Axes>"
      ]
     },
     "metadata": {},
     "output_type": "display_data"
    }
   ],
   "source": [
    "# Number of sessions in time period\n",
    "\n",
    "specific_stat = np.where(num_sess_list[:,0] == 'Hb')[0]\n",
    "\n",
    "fig, ax = plt.subplots()\n",
    "\n",
    "bars = ax.bar(num_sess_list[0:10,0], num_sess_list[0:10,1].astype(float), color='steelblue', alpha=0.8) # Plot the 10 best performing stations\n",
    "bar_specific =  ax.bar(num_sess_list[specific_stat,0], num_sess_list[specific_stat,1].astype(float), color='firebrick', alpha=0.8) # Plot the 'target' station\n",
    "\n",
    "ax.bar_label(bars, label_type='edge')\n",
    "\n",
    "plt.xlabel('Stations')\n",
    "plt.ylabel('Number of sessions')"
   ]
  },
  {
   "cell_type": "code",
   "execution_count": 40,
   "id": "484adfe4",
   "metadata": {},
   "outputs": [
    {
     "data": {
      "text/plain": [
       "Text(0, 0.5, 'Median station fit (ps)')"
      ]
     },
     "execution_count": 40,
     "metadata": {},
     "output_type": "execute_result"
    },
    {
     "data": {
      "image/png": "[encoded data removed]",
      "text/plain": [
       "<Figure size 640x480 with 1 Axes>"
      ]
     },
     "metadata": {},
     "output_type": "display_data"
    }
   ],
   "source": [
    "# Median W_RMS del bar plot\n",
    "\n",
    "specific_stat = np.where(med_wrms_list[:,0] == 'Hb')[0]\n",
    "\n",
    "fig, ax = plt.subplots()\n",
    "\n",
    "bars = ax.bar(med_wrms_list[0:10,0], med_wrms_list[0:10,1], color='steelblue', alpha=0.8) # Plot the 10 best performing stations\n",
    "bar_specific =  ax.bar(med_wrms_list[specific_stat,0], med_wrms_list[specific_stat,1], color='firebrick', alpha=0.8) # Plot the 'target' station\n",
    "\n",
    "ax.bar_label(bars, label_type='edge')\n",
    "\n",
    "plt.xlabel('Stations')\n",
    "plt.ylabel('Median station fit (ps)')"
   ]
  },
  {
   "cell_type": "code",
   "execution_count": null,
   "id": "0a2608d2",
   "metadata": {},
   "outputs": [],
   "source": []
  },
  {
   "cell_type": "code",
   "execution_count": null,
   "id": "7147ed6c",
   "metadata": {},
   "outputs": [],
   "source": []
  }
 ],
 "metadata": {
  "kernelspec": {
   "display_name": "Python 3",
   "language": "python",
   "name": "python3"
  },
  "language_info": {
   "codemirror_mode": {
    "name": "ipython",
    "version": 3
   },
   "file_extension": ".py",
   "mimetype": "text/x-python",
   "name": "python",
   "nbconvert_exporter": "python",
   "pygments_lexer": "ipython3",
   "version": "3.10.12"
  }
 },
 "nbformat": 4,
 "nbformat_minor": 5
}
